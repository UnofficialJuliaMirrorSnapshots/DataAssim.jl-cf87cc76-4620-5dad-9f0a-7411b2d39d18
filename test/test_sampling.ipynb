{
 "cells": [
  {
   "cell_type": "code",
   "execution_count": 2,
   "metadata": {},
   "outputs": [],
   "source": [
    "using Statistics, Random, Test"
   ]
  },
  {
   "cell_type": "code",
   "execution_count": 3,
   "metadata": {},
   "outputs": [
    {
     "data": {
      "text/plain": [
       "PR (generic function with 1 method)"
      ]
     },
     "execution_count": 3,
     "metadata": {},
     "output_type": "execute_result"
    }
   ],
   "source": [
    "function PR(w,Ñₑ)\n",
    "    Nₑ = length(w)\n",
    "    ŵ = similar(w, eltype(w), (Nₑ,))\n",
    "    ŵ[1] = w[1]\n",
    "\n",
    "    for j = 2:Nₑ\n",
    "        ŵ[j] = ŵ[j-1] + w[j]\n",
    "    end\n",
    "\n",
    "    k = zeros(Int,Ñₑ)\n",
    "    c = 1\n",
    "    for j = 1:Ñₑ\n",
    "        u = rand()\n",
    "\n",
    "        while u > ŵ[c]\n",
    "            c = c+1\n",
    "        end\n",
    "\n",
    "        k[j] = c\n",
    "        c = 1\n",
    "    end\n",
    "    return k\n",
    "end\n"
   ]
  },
  {
   "cell_type": "code",
   "execution_count": 4,
   "metadata": {},
   "outputs": [
    {
     "data": {
      "text/plain": [
       "\u001b[32m\u001b[1mTest Passed\u001b[22m\u001b[39m"
      ]
     },
     "execution_count": 4,
     "metadata": {},
     "output_type": "execute_result"
    }
   ],
   "source": [
    "k = PR([0,0.1,0.9],10000);\n",
    "@test sum(k .== 1) == 0\n"
   ]
  },
  {
   "cell_type": "code",
   "execution_count": 5,
   "metadata": {},
   "outputs": [
    {
     "data": {
      "text/plain": [
       "SUR (generic function with 1 method)"
      ]
     },
     "execution_count": 5,
     "metadata": {},
     "output_type": "execute_result"
    }
   ],
   "source": [
    "# Algorithm 2 Algorithm of stochastic universal resampling (SUR)\n",
    "function SUR(w,Ñₑ)\n",
    "    Nₑ = length(w)\n",
    "\n",
    "    ŵ = similar(w, eltype(w), (Nₑ,))\n",
    "    ŵ[1] = w[1]\n",
    "\n",
    "    for j = 2:Nₑ\n",
    "        ŵ[j] = ŵ[j-1] + w[j]\n",
    "    end\n",
    "\n",
    "    k = zeros(Int,Ñₑ)\n",
    "    # generate a random number\n",
    "    u = rand()/Nₑ\n",
    "    c = 1\n",
    "\n",
    "    for j = 1:Ñₑ\n",
    "        @show u\n",
    "        while u > ŵ[c]\n",
    "        #while u > ŵ[min(c,end)]\n",
    "            c = c+1\n",
    "        end\n",
    "\n",
    "        k[j] = c\n",
    "        u = u + 1/Nₑ\n",
    "        c = 1\n",
    "    end\n",
    "\n",
    "    return k\n",
    "end"
   ]
  },
  {
   "cell_type": "code",
   "execution_count": 6,
   "metadata": {},
   "outputs": [
    {
     "name": "stdout",
     "output_type": "stream",
     "text": [
      "u = 0.36521551812250674\n",
      "u = 1.3652155181225067\n"
     ]
    },
    {
     "ename": "BoundsError",
     "evalue": "BoundsError: attempt to access 1-element Array{Float64,1} at index [2]",
     "output_type": "error",
     "traceback": [
      "BoundsError: attempt to access 1-element Array{Float64,1} at index [2]",
      "",
      "Stacktrace:",
      " [1] getindex at ./array.jl:729 [inlined]",
      " [2] SUR(::Array{Float64,1}, ::Int64) at ./In[5]:19",
      " [3] top-level scope at In[6]:1"
     ]
    }
   ],
   "source": [
    "k = SUR([1.],10);"
   ]
  },
  {
   "cell_type": "code",
   "execution_count": 7,
   "metadata": {},
   "outputs": [],
   "source": [
    "#k = SUR([0,0.1,0.9],10000);"
   ]
  }
 ],
 "metadata": {
  "kernelspec": {
   "display_name": "Julia 1.1.1",
   "language": "julia",
   "name": "julia-1.1"
  },
  "language_info": {
   "file_extension": ".jl",
   "mimetype": "application/julia",
   "name": "julia",
   "version": "1.1.1"
  }
 },
 "nbformat": 4,
 "nbformat_minor": 2
}
